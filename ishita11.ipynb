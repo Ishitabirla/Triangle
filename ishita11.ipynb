{
 "cells": [
  {
   "cell_type": "code",
   "execution_count": 1,
   "id": "3cc6599c",
   "metadata": {},
   "outputs": [
    {
     "name": "stdout",
     "output_type": "stream",
     "text": [
      "    * \n",
      "   * * \n",
      "  * * * \n",
      " * * * * \n",
      "* * * * * \n"
     ]
    }
   ],
   "source": [
    "def pyramid(n):\n",
    "    for i in range(1, n + 1):\n",
    "        print(' ' * (n - i) + '* ' * i)\n",
    "\n",
    "n = 5 \n",
    "pyramid(n)"
   ]
  },
  {
   "cell_type": "code",
   "execution_count": 2,
   "id": "b444f705",
   "metadata": {},
   "outputs": [
    {
     "name": "stdout",
     "output_type": "stream",
     "text": [
      "* \n",
      "* * \n",
      "* * * \n",
      "* * * * \n",
      "* * * * * \n"
     ]
    }
   ],
   "source": [
    "def lower_triangular(n):\n",
    "    for i in range(1, n + 1):\n",
    "        print('* ' * i)\n",
    "\n",
    "n = 5  \n",
    "lower_triangular(n)"
   ]
  },
  {
   "cell_type": "code",
   "execution_count": 3,
   "id": "c80a2f43",
   "metadata": {},
   "outputs": [
    {
     "name": "stdout",
     "output_type": "stream",
     "text": [
      "* * * * * \n",
      "* * * * \n",
      "* * * \n",
      "* * \n",
      "* \n"
     ]
    }
   ],
   "source": [
    "def upper_triangular(n):\n",
    "    for i in range(n, 0, -1):\n",
    "        print('* ' * i)\n",
    "\n",
    "n = 5  \n",
    "upper_triangular(n)"
   ]
  },
  {
   "cell_type": "code",
   "execution_count": null,
   "id": "05ae9a08",
   "metadata": {},
   "outputs": [],
   "source": []
  }
 ],
 "metadata": {
  "kernelspec": {
   "display_name": "Python 3 (ipykernel)",
   "language": "python",
   "name": "python3"
  },
  "language_info": {
   "codemirror_mode": {
    "name": "ipython",
    "version": 3
   },
   "file_extension": ".py",
   "mimetype": "text/x-python",
   "name": "python",
   "nbconvert_exporter": "python",
   "pygments_lexer": "ipython3",
   "version": "3.10.9"
  }
 },
 "nbformat": 4,
 "nbformat_minor": 5
}
